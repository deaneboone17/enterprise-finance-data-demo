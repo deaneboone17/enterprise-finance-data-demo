{
 "cells": [
  {
   "cell_type": "code",
   "execution_count": 0,
   "metadata": {
    "application/vnd.databricks.v1+cell": {
     "cellMetadata": {
      "byteLimit": 2048000,
      "implicitDf": true,
      "rowLimit": 10000
     },
     "inputWidgets": {},
     "nuid": "582d3cfa-0f99-4b4d-a363-45c3506c3386",
     "showTitle": false,
     "tableResultSettingsMap": {},
     "title": ""
    }
   },
   "outputs": [],
   "source": [
    "%sql\n",
    "\n",
    "-- Databricks: 03_kpis_gold.sql\n",
    "-- Purpose: Build Gold KPI views from Silver layer.\n",
    "-- Inputs (must exist):\n",
    "--   silver_payments(payment_id, customer_id, amount, status, method, ts, month)\n",
    "--   silver_chargebacks(payment_id, reason, outcome, opened_ts, resolved_ts, month_opened)\n",
    "\n",
    "----------------------------------------------------------------------\n",
    "-- Choose your catalog/schema\n",
    "-- Non-UC (default):\n",
    "USE demo_finance;\n",
    "\n",
    "-- Unity Catalog (uncomment if UC is enabled):\n",
    "-- USE CATALOG main;\n",
    "-- USE SCHEMA demo_finance;\n",
    "----------------------------------------------------------------------\n",
    "\n",
    "-- 1) Monthly payments summary (counts + gross revenue)\n",
    "CREATE OR REPLACE VIEW gold_payments_monthly AS\n",
    "SELECT\n",
    "  month,\n",
    "  COUNT(*) AS payments,\n",
    "  SUM(CASE WHEN status = 'settled' THEN 1 ELSE 0 END) AS settled,\n",
    "  SUM(CASE WHEN status = 'failed'  THEN 1 ELSE 0 END) AS failed,\n",
    "  SUM(CASE WHEN status = 'settled' THEN amount ELSE 0 END) AS gross_revenue\n",
    "FROM silver_payments\n",
    "GROUP BY month;\n",
    "\n",
    "COMMENT ON VIEW gold_payments_monthly IS\n",
    "'Gold KPI: monthly payment counts and gross revenue aggregated from silver_payments.';\n",
    "\n",
    "-- 2) Monthly chargeback rate (chargebacks ÷ settled)\n",
    "CREATE OR REPLACE VIEW gold_chargeback_rate AS\n",
    "WITH cbs AS (\n",
    "  SELECT month_opened AS month, COUNT(*) AS chargebacks\n",
    "  FROM silver_chargebacks\n",
    "  GROUP BY month_opened\n",
    "),\n",
    "pays AS (\n",
    "  SELECT month, SUM(CASE WHEN status = 'settled' THEN 1 ELSE 0 END) AS settled\n",
    "  FROM silver_payments\n",
    "  GROUP BY month\n",
    ")\n",
    "SELECT\n",
    "  COALESCE(p.month, c.month) AS month,\n",
    "  COALESCE(c.chargebacks, 0) AS chargebacks,\n",
    "  COALESCE(p.settled, 0)     AS settled,\n",
    "  CASE WHEN COALESCE(p.settled, 0) = 0 THEN 0\n",
    "       ELSE ROUND(COALESCE(c.chargebacks, 0) / p.settled, 4)\n",
    "  END AS chargeback_rate\n",
    "FROM pays p\n",
    "FULL OUTER JOIN cbs c\n",
    "  ON p.month = c.month;\n",
    "\n",
    "COMMENT ON VIEW gold_chargeback_rate IS\n",
    "'Gold KPI: monthly chargebacks and chargeback rate (chargebacks / settled).';\n",
    "\n",
    "-- 3) Convenience: single KPI view joining both\n",
    "CREATE OR REPLACE VIEW gold_kpi_monthly AS\n",
    "SELECT\n",
    "  COALESCE(p.month, r.month)                         AS month,\n",
    "  p.payments,\n",
    "  p.settled,\n",
    "  p.failed,\n",
    "  p.gross_revenue,\n",
    "  r.chargebacks,\n",
    "  r.chargeback_rate,\n",
    "  CASE WHEN COALESCE(p.payments, 0) = 0 THEN 0\n",
    "       ELSE ROUND(COALESCE(p.failed, 0) / p.payments, 4)\n",
    "  END AS failure_rate\n",
    "FROM gold_payments_monthly p\n",
    "FULL OUTER JOIN gold_chargeback_rate r\n",
    "  ON p.month = r.month;\n",
    "\n",
    "COMMENT ON VIEW gold_kpi_monthly IS\n",
    "'Gold KPI: unified monthly KPIs (payments, settled, failed, gross_revenue, chargebacks, chargeback_rate, failure_rate).';\n",
    "\n",
    "-- 4) Sanity checks (safe to keep here; useful when running interactively)\n",
    "-- (You can comment these out for automated jobs.)\n",
    "SELECT * FROM gold_payments_monthly  ORDER BY month LIMIT 12;\n",
    "SELECT * FROM gold_chargeback_rate   ORDER BY month LIMIT 12;\n",
    "SELECT * FROM gold_kpi_monthly       ORDER BY month LIMIT 12;\n"
   ]
  }
 ],
 "metadata": {
  "application/vnd.databricks.v1+notebook": {
   "computePreferences": null,
   "dashboards": [],
   "environmentMetadata": {
    "base_environment": "",
    "environment_version": "3"
   },
   "inputWidgetPreferences": null,
   "language": "python",
   "notebookMetadata": {
    "mostRecentlyExecutedCommandWithImplicitDF": {
     "commandId": 7519184408392567,
     "dataframes": [
      "_sqldf"
     ]
    },
    "pythonIndentUnit": 4
   },
   "notebookName": "03_kpis_gold",
   "widgets": {}
  },
  "language_info": {
   "name": "python"
  }
 },
 "nbformat": 4,
 "nbformat_minor": 0
}
