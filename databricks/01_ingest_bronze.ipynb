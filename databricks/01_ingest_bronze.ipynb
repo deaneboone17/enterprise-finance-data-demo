{
 "cells": [
  {
   "cell_type": "code",
   "execution_count": 0,
   "metadata": {
    "application/vnd.databricks.v1+cell": {
     "cellMetadata": {
      "byteLimit": 2048000,
      "rowLimit": 10000
     },
     "inputWidgets": {},
     "nuid": "e9d56f62-5816-4895-8d6c-1b51d4401bdb",
     "showTitle": false,
     "tableResultSettingsMap": {},
     "title": ""
    }
   },
   "outputs": [],
   "source": [
    "# Databricks: 01_ingest_bronze.py\n",
    "# Purpose: Ingest raw CSVs -> Delta \"bronze_*\" tables.\n",
    "# - SOURCE: \"gcs\" (recommended) or \"dbfs\"\n",
    "# - For GCS: store your SA key in Databricks Secrets (scope/key), we write it to /local_disk0/gcp.json and set Spark/Hadoop confs.\n",
    "# - Works with or without Unity Catalog. If CATALOG is blank, we use hive_metastore default and fully qualify as <SCHEMA>.<TABLE>.\n",
    "\n",
    "# -----------------------------\n",
    "# Widgets / Parameters\n",
    "# -----------------------------\n",
    "dbutils.widgets.text(\"SOURCE\", \"gcs\")                   # \"gcs\" or \"dbfs\"\n",
    "dbutils.widgets.text(\"GCP_SECRET_SCOPE\", \"gcp-secrets\") # only used if SOURCE=\"gcs\"\n",
    "dbutils.widgets.text(\"GCP_SECRET_KEY\", \"gcs-key-json\")  # only used if SOURCE=\"gcs\"\n",
    "dbutils.widgets.text(\"GCP_PROJECT_ID\", \"\")              # optional; helpful for logs\n",
    "dbutils.widgets.text(\"BUCKET\", \"de-portfolio-20250909-db-471908305\")    # only used if SOURCE=\"gcs\"\n",
    "dbutils.widgets.text(\"DBFS_RAW_DIR\", \"dbfs:/FileStore/tables/raw\")  # only if SOURCE=\"dbfs\"\n",
    "\n",
    "dbutils.widgets.text(\"CATALOG\", \"\")          # e.g., \"main\" if UC is enabled; leave blank for non-UC\n",
    "dbutils.widgets.text(\"SCHEMA\", \"demo_finance\")\n",
    "\n",
    "# -----------------------------\n",
    "# Read widgets\n",
    "# -----------------------------\n",
    "SOURCE           = dbutils.widgets.get(\"SOURCE\").strip().lower()\n",
    "SCOPE            = dbutils.widgets.get(\"GCP_SECRET_SCOPE\").strip()\n",
    "SECRET_KEY       = dbutils.widgets.get(\"GCP_SECRET_KEY\").strip()\n",
    "PROJECT_ID       = dbutils.widgets.get(\"GCP_PROJECT_ID\").strip()\n",
    "BUCKET           = dbutils.widgets.get(\"BUCKET\").strip()\n",
    "DBFS_RAW_DIR     = dbutils.widgets.get(\"DBFS_RAW_DIR\").strip().rstrip(\"/\")\n",
    "\n",
    "CATALOG          = dbutils.widgets.get(\"CATALOG\").strip()\n",
    "SCHEMA           = dbutils.widgets.get(\"SCHEMA\").strip()\n",
    "\n",
    "if SOURCE not in {\"gcs\", \"dbfs\"}:\n",
    "    raise ValueError(f\"SOURCE must be 'gcs' or 'dbfs', got: {SOURCE}\")\n",
    "\n",
    "if not SCHEMA:\n",
    "    raise ValueError(\"SCHEMA must not be empty\")\n",
    "\n",
    "# -----------------------------\n",
    "# Helper: qualify table name\n",
    "# -----------------------------\n",
    "def fqtn(table: str) -> str:\n",
    "    if CATALOG:\n",
    "        return f\"{CATALOG}.{SCHEMA}.{table}\"\n",
    "    else:\n",
    "        return f\"{SCHEMA}.{table}\"\n",
    "\n",
    "# -----------------------------\n",
    "# Optional: Use UC catalog (if provided)\n",
    "# -----------------------------\n",
    "if CATALOG:\n",
    "    # If your workspace is not on UC, this will fail; in that case leave CATALOG blank.\n",
    "    spark.sql(f\"USE CATALOG {CATALOG}\")\n",
    "\n",
    "# Create schema / database and USE it\n",
    "spark.sql(f\"CREATE SCHEMA IF NOT EXISTS {SCHEMA}\")\n",
    "spark.sql(f\"USE SCHEMA {SCHEMA}\")\n",
    "\n",
    "# -----------------------------\n",
    "# Configure source paths\n",
    "# -----------------------------\n",
    "if SOURCE == \"gcs\":\n",
    "    if not BUCKET or BUCKET.startswith(\"<your-bucket\"):\n",
    "        raise ValueError(\"Set the BUCKET widget to your GCS bucket name (e.g., de-portfolio-2025-xxxx).\")\n",
    "\n",
    "    # Pull key from Secrets -> write local keyfile\n",
    "    keyfile = \"/local_disk0/gcp.json\"\n",
    "    creds_json = dbutils.secrets.get(scope=SCOPE, key=SECRET_KEY)\n",
    "    with open(keyfile, \"w\") as f:\n",
    "        f.write(creds_json)\n",
    "\n",
    "    # Force Hadoop GCS connector to use this keyfile\n",
    "    spark.conf.set(\"spark.hadoop.google.cloud.auth.service.account.enable\", \"true\")\n",
    "    spark.conf.set(\"spark.hadoop.google.cloud.auth.service.account.json.keyfile\", keyfile)\n",
    "\n",
    "    # Some clusters use the 'fs.gs.*' namespace as well—set both\n",
    "    spark.conf.set(\"spark.hadoop.fs.gs.auth.service.account.enable\", \"true\")\n",
    "    spark.conf.set(\"spark.hadoop.fs.gs.auth.service.account.json.keyfile\", keyfile)\n",
    "    if PROJECT_ID:\n",
    "        spark.conf.set(\"spark.hadoop.fs.gs.project.id\", PROJECT_ID)\n",
    "\n",
    "    # Also set ADC env for driver/executors (belt & suspenders)\n",
    "    spark.conf.set(\"spark.driverEnv.GOOGLE_APPLICATION_CREDENTIALS\", keyfile)\n",
    "    spark.conf.set(\"spark.executorEnv.GOOGLE_APPLICATION_CREDENTIALS\", keyfile)\n",
    "\n",
    "    # Live Hadoop conf (for immediate use)\n",
    "    hconf = sc._jsc.hadoopConfiguration()\n",
    "    hconf.set(\"google.cloud.auth.service.account.enable\", \"true\")\n",
    "    hconf.set(\"google.cloud.auth.service.account.json.keyfile\", keyfile)\n",
    "    hconf.set(\"fs.gs.auth.service.account.enable\", \"true\")\n",
    "    hconf.set(\"fs.gs.auth.service.account.json.keyfile\", keyfile)\n",
    "    if PROJECT_ID:\n",
    "        hconf.set(\"fs.gs.project.id\", PROJECT_ID)\n",
    "\n",
    "    subs_path = f\"gs://{BUCKET}/raw/subscriptions/*.csv\"\n",
    "    pays_path = f\"gs://{BUCKET}/raw/payments/*.csv\"\n",
    "    cbs_path  = f\"gs://{BUCKET}/raw/chargebacks/*.csv\"\n",
    "\n",
    "    # Optional sanity check listing\n",
    "    try:\n",
    "        print(\"Listing gs:// paths...\")\n",
    "        print(dbutils.fs.ls(f\"gs://{BUCKET}/raw/\"))\n",
    "    except Exception as e:\n",
    "        print(\"Warning: could not list GCS raw/ folder (will still attempt reads).\", str(e))\n",
    "\n",
    "else:  # DBFS\n",
    "    subs_path = f\"{DBFS_RAW_DIR}/subscriptions.csv\"\n",
    "    pays_path = f\"{DBFS_RAW_DIR}/payments.csv\"\n",
    "    cbs_path  = f\"{DBFS_RAW_DIR}/chargebacks.csv\"\n",
    "\n",
    "    # Optional sanity check listing\n",
    "    print(\"Listing DBFS raw dir:\", DBFS_RAW_DIR)\n",
    "    print(dbutils.fs.ls(DBFS_RAW_DIR))\n",
    "\n",
    "# -----------------------------\n",
    "# Read CSVs\n",
    "# -----------------------------\n",
    "def read_csv(path: str):\n",
    "    df = (spark.read\n",
    "          .option(\"header\", True)\n",
    "          .option(\"inferSchema\", True)\n",
    "          .csv(path))\n",
    "    return df\n",
    "\n",
    "try:\n",
    "    subs_df = read_csv(subs_path)\n",
    "    pays_df = read_csv(pays_path)\n",
    "    cbs_df  = read_csv(cbs_path)\n",
    "except Exception as e:\n",
    "    msg = f\"Failed to read CSVs. Check SOURCE paths and credentials.\\nsubs_path={subs_path}\\npays_path={pays_path}\\ncbs_path={cbs_path}\\nError={e}\"\n",
    "    raise RuntimeError(msg)\n",
    "\n",
    "# -----------------------------\n",
    "# Write Delta \"bronze_*\" tables\n",
    "# -----------------------------\n",
    "tables = {\n",
    "    \"bronze_subscriptions\": subs_df,\n",
    "    \"bronze_payments\":      pays_df,\n",
    "    \"bronze_chargebacks\":   cbs_df\n",
    "}\n",
    "\n",
    "for name, df in tables.items():\n",
    "    target = fqtn(name)\n",
    "    (df.write.mode(\"overwrite\").format(\"delta\").saveAsTable(target))\n",
    "    print(f\"Wrote table: {target} (mode=overwrite)\")\n",
    "\n",
    "# -----------------------------\n",
    "# Row counts / verification\n",
    "# -----------------------------\n",
    "for name in tables.keys():\n",
    "    target = fqtn(name)\n",
    "    cnt = spark.table(target).count()\n",
    "    print(f\"{target} -> {cnt} rows\")\n",
    "\n",
    "print(\"✅ Bronze ingest complete.\")\n"
   ]
  }
 ],
 "metadata": {
  "application/vnd.databricks.v1+notebook": {
   "computePreferences": null,
   "dashboards": [],
   "environmentMetadata": {
    "base_environment": "",
    "environment_version": "3"
   },
   "inputWidgetPreferences": null,
   "language": "python",
   "notebookMetadata": {
    "pythonIndentUnit": 4
   },
   "notebookName": "01_ingest_bronze",
   "widgets": {
    "BUCKET": {
     "currentValue": "de-portfolio-20250909-db-471908305",
     "nuid": "73aaeabd-f7ac-4a18-933b-d8d1cf908278",
     "typedWidgetInfo": {
      "autoCreated": false,
      "defaultValue": "de-portfolio-20250909-db-471908305",
      "label": null,
      "name": "BUCKET",
      "options": {
       "widgetDisplayType": "Text",
       "validationRegex": null
      },
      "parameterDataType": "String"
     },
     "widgetInfo": {
      "widgetType": "text",
      "defaultValue": "de-portfolio-20250909-db-471908305",
      "label": null,
      "name": "BUCKET",
      "options": {
       "widgetType": "text",
       "autoCreated": false,
       "validationRegex": null
      }
     }
    },
    "CATALOG": {
     "currentValue": "",
     "nuid": "7a1e4178-335a-46b8-8305-ef50bc48e61e",
     "typedWidgetInfo": {
      "autoCreated": false,
      "defaultValue": "",
      "label": null,
      "name": "CATALOG",
      "options": {
       "widgetDisplayType": "Text",
       "validationRegex": null
      },
      "parameterDataType": "String"
     },
     "widgetInfo": {
      "widgetType": "text",
      "defaultValue": "",
      "label": null,
      "name": "CATALOG",
      "options": {
       "widgetType": "text",
       "autoCreated": false,
       "validationRegex": null
      }
     }
    },
    "DBFS_RAW_DIR": {
     "currentValue": "dbfs:/FileStore/tables/raw",
     "nuid": "9e97aca3-04a5-49b3-a033-0846d9badb38",
     "typedWidgetInfo": {
      "autoCreated": false,
      "defaultValue": "dbfs:/FileStore/tables/raw",
      "label": null,
      "name": "DBFS_RAW_DIR",
      "options": {
       "widgetDisplayType": "Text",
       "validationRegex": null
      },
      "parameterDataType": "String"
     },
     "widgetInfo": {
      "widgetType": "text",
      "defaultValue": "dbfs:/FileStore/tables/raw",
      "label": null,
      "name": "DBFS_RAW_DIR",
      "options": {
       "widgetType": "text",
       "autoCreated": false,
       "validationRegex": null
      }
     }
    },
    "GCP_PROJECT_ID": {
     "currentValue": "",
     "nuid": "af4d7eb7-1c00-4c10-8227-e730af3adc70",
     "typedWidgetInfo": {
      "autoCreated": false,
      "defaultValue": "",
      "label": null,
      "name": "GCP_PROJECT_ID",
      "options": {
       "widgetDisplayType": "Text",
       "validationRegex": null
      },
      "parameterDataType": "String"
     },
     "widgetInfo": {
      "widgetType": "text",
      "defaultValue": "",
      "label": null,
      "name": "GCP_PROJECT_ID",
      "options": {
       "widgetType": "text",
       "autoCreated": false,
       "validationRegex": null
      }
     }
    },
    "GCP_SECRET_KEY": {
     "currentValue": "gcs-key-json",
     "nuid": "2afa1d97-b454-4804-ab9e-e415659197cc",
     "typedWidgetInfo": {
      "autoCreated": false,
      "defaultValue": "gcs-key-json",
      "label": null,
      "name": "GCP_SECRET_KEY",
      "options": {
       "widgetDisplayType": "Text",
       "validationRegex": null
      },
      "parameterDataType": "String"
     },
     "widgetInfo": {
      "widgetType": "text",
      "defaultValue": "gcs-key-json",
      "label": null,
      "name": "GCP_SECRET_KEY",
      "options": {
       "widgetType": "text",
       "autoCreated": false,
       "validationRegex": null
      }
     }
    },
    "GCP_SECRET_SCOPE": {
     "currentValue": "gcp-secrets",
     "nuid": "a1d4b043-5cde-4886-8cc2-3c2521c5d8eb",
     "typedWidgetInfo": {
      "autoCreated": false,
      "defaultValue": "gcp-secrets",
      "label": null,
      "name": "GCP_SECRET_SCOPE",
      "options": {
       "widgetDisplayType": "Text",
       "validationRegex": null
      },
      "parameterDataType": "String"
     },
     "widgetInfo": {
      "widgetType": "text",
      "defaultValue": "gcp-secrets",
      "label": null,
      "name": "GCP_SECRET_SCOPE",
      "options": {
       "widgetType": "text",
       "autoCreated": false,
       "validationRegex": null
      }
     }
    },
    "SCHEMA": {
     "currentValue": "demo_finance",
     "nuid": "12f8f8f6-7d86-4805-adcc-e74fea6f248d",
     "typedWidgetInfo": {
      "autoCreated": false,
      "defaultValue": "demo_finance",
      "label": null,
      "name": "SCHEMA",
      "options": {
       "widgetDisplayType": "Text",
       "validationRegex": null
      },
      "parameterDataType": "String"
     },
     "widgetInfo": {
      "widgetType": "text",
      "defaultValue": "demo_finance",
      "label": null,
      "name": "SCHEMA",
      "options": {
       "widgetType": "text",
       "autoCreated": false,
       "validationRegex": null
      }
     }
    },
    "SOURCE": {
     "currentValue": "gcs",
     "nuid": "2fcb8ee4-2bf1-47ae-9c14-e397bffc0430",
     "typedWidgetInfo": {
      "autoCreated": false,
      "defaultValue": "gcs",
      "label": null,
      "name": "SOURCE",
      "options": {
       "widgetDisplayType": "Text",
       "validationRegex": null
      },
      "parameterDataType": "String"
     },
     "widgetInfo": {
      "widgetType": "text",
      "defaultValue": "gcs",
      "label": null,
      "name": "SOURCE",
      "options": {
       "widgetType": "text",
       "autoCreated": false,
       "validationRegex": null
      }
     }
    }
   }
  },
  "language_info": {
   "name": "python"
  }
 },
 "nbformat": 4,
 "nbformat_minor": 0
}
