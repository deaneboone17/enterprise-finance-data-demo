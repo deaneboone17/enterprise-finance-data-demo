{
 "cells": [
  {
   "cell_type": "code",
   "execution_count": 0,
   "metadata": {
    "application/vnd.databricks.v1+cell": {
     "cellMetadata": {
      "byteLimit": 2048000,
      "rowLimit": 10000
     },
     "inputWidgets": {},
     "nuid": "4504234c-8c88-4989-ac29-9a9d2aee2d97",
     "showTitle": false,
     "tableResultSettingsMap": {},
     "title": ""
    }
   },
   "outputs": [],
   "source": [
    "# analytics/make_charts.py\n",
    "import os\n",
    "import pandas as pd\n",
    "import matplotlib.pyplot as plt\n",
    "\n",
    "# Expect a Spark session to exist (Databricks job / notebook). If running locally, create SparkSession first.\n",
    "from pyspark.sql import SparkSession\n",
    "spark = SparkSession.getActiveSession() or SparkSession.builder.getOrCreate()\n",
    "\n",
    "# Config\n",
    "SCHEMA = \"demo_finance\"\n",
    "OUT_DIR_LOCAL = \"./assets\"\n",
    "OUT_DIR_DBFS  = \"/dbfs/FileStore/finance_demo\"\n",
    "\n",
    "os.makedirs(OUT_DIR_LOCAL, exist_ok=True)\n",
    "os.makedirs(OUT_DIR_DBFS, exist_ok=True)\n",
    "\n",
    "def save(fig, name):\n",
    "    p1 = f\"{OUT_DIR_LOCAL}/{name}.png\"\n",
    "    p2 = f\"{OUT_DIR_DBFS}/{name}.png\"\n",
    "    fig.savefig(p1, dpi=160, bbox_inches=\"tight\")\n",
    "    fig.savefig(p2, dpi=160, bbox_inches=\"tight\")\n",
    "    print(\"Saved:\", p1, \"and\", p2)\n",
    "\n",
    "def load():\n",
    "    spark.sql(f\"USE {SCHEMA}\")\n",
    "    df_pay = spark.table(\"gold_payments_monthly\").toPandas().copy()\n",
    "    df_cb  = spark.table(\"gold_chargeback_rate\").toPandas().copy()\n",
    "    for df in (df_pay, df_cb):\n",
    "        df[\"month_date\"] = pd.to_datetime(df[\"month\"] + \"-01\")\n",
    "    return df_pay.sort_values(\"month_date\"), df_cb.sort_values(\"month_date\")\n",
    "\n",
    "def chart_payments(df):\n",
    "    fig = plt.figure(figsize=(10,4.5))\n",
    "    plt.plot(df[\"month_date\"], df[\"payments\"], label=\"Payments\")\n",
    "    plt.plot(df[\"month_date\"], df[\"settled\"],  label=\"Settled\")\n",
    "    plt.plot(df[\"month_date\"], df[\"failed\"],   label=\"Failed\")\n",
    "    plt.title(\"Monthly Payments (all / settled / failed)\")\n",
    "    plt.xlabel(\"Month\"); plt.ylabel(\"Count\")\n",
    "    plt.xticks(rotation=45, ha=\"right\"); plt.legend(); plt.tight_layout()\n",
    "    save(fig, \"payments_trend\")\n",
    "\n",
    "def chart_chargebacks(df):\n",
    "    fig = plt.figure(figsize=(10,4.5))\n",
    "    plt.plot(df[\"month_date\"], df[\"chargeback_rate\"])\n",
    "    plt.title(\"Monthly Chargeback Rate\")\n",
    "    plt.xlabel(\"Month\"); plt.ylabel(\"Rate\")\n",
    "    plt.xticks(rotation=45, ha=\"right\"); plt.tight_layout()\n",
    "    save(fig, \"chargeback_rate\")\n",
    "\n",
    "def chart_revenue(df):\n",
    "    fig = plt.figure(figsize=(10,4.5))\n",
    "    plt.bar(df[\"month_date\"], df[\"gross_revenue\"])\n",
    "    plt.title(\"Monthly Gross Revenue (settled only)\")\n",
    "    plt.xlabel(\"Month\"); plt.ylabel(\"Revenue\")\n",
    "    plt.xticks(rotation=45, ha=\"right\"); plt.tight_layout()\n",
    "    save(fig, \"gross_revenue\")\n",
    "\n",
    "if __name__ == \"__main__\":\n",
    "    df_pay, df_cb = load()\n",
    "    chart_payments(df_pay)\n",
    "    chart_chargebacks(df_cb)\n",
    "    chart_revenue(df_pay)\n",
    "    print(\"✅ Charts generated.\")\n"
   ]
  }
 ],
 "metadata": {
  "application/vnd.databricks.v1+notebook": {
   "computePreferences": null,
   "dashboards": [],
   "environmentMetadata": {
    "base_environment": "",
    "environment_version": "3"
   },
   "inputWidgetPreferences": null,
   "language": "python",
   "notebookMetadata": {
    "pythonIndentUnit": 4
   },
   "notebookName": "make_charts",
   "widgets": {}
  },
  "language_info": {
   "name": "python"
  }
 },
 "nbformat": 4,
 "nbformat_minor": 0
}
